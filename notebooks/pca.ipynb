{
 "cells": [
  {
   "cell_type": "markdown",
   "metadata": {},
   "source": [
    "## PCA\n",
    "\n",
    "1. Get SVD of X\n",
    "2. Project X onto k = 5, 10, 15, ... dimensions\n",
    "3. For each k-dimensional approximation of X, calculate least squares weights\n",
    "4. Using LS weights, calculate predicted y_hat\n",
    "5. Compare MSE between y and y_hat"
   ]
  },
  {
   "cell_type": "code",
   "execution_count": 1,
   "metadata": {},
   "outputs": [
    {
     "data": {
      "text/plain": [
       "(10000, 26023)"
      ]
     },
     "execution_count": 1,
     "metadata": {},
     "output_type": "execute_result"
    }
   ],
   "source": [
    "import os\n",
    "import pickle\n",
    "import numpy as np\n",
    "import pandas as pd\n",
    "import matplotlib.pyplot as plt\n",
    "\n",
    "# Display settings\n",
    "pd.options.display.max_columns = 999\n",
    "pd.options.display.max_colwidth = -1\n",
    "\n",
    "# Import data\n",
    "FINAL_DATA = os.path.join('..', 'data', 'final')\n",
    "x_df = pd.read_csv(os.path.join(FINAL_DATA, 'features.csv'),\n",
    "                   header=None)\n",
    "x_df = x_df.to_numpy()\n",
    "x_df.shape"
   ]
  },
  {
   "cell_type": "code",
   "execution_count": 2,
   "metadata": {},
   "outputs": [
    {
     "data": {
      "text/plain": [
       "array([[ 0.        ,  0.        ,  0.        , ...,  0.        ,\n",
       "         0.        , 35.51132582],\n",
       "       [ 0.        ,  0.        ,  0.        , ...,  0.        ,\n",
       "         0.        , 15.        ],\n",
       "       [ 0.        ,  0.        ,  0.        , ...,  0.        ,\n",
       "         0.        , 14.        ],\n",
       "       ...,\n",
       "       [ 0.        ,  0.        ,  0.        , ...,  0.        ,\n",
       "         0.        , 43.        ],\n",
       "       [ 0.        ,  0.        ,  0.        , ...,  0.        ,\n",
       "         0.        , 75.        ],\n",
       "       [ 0.        ,  0.        ,  0.        , ...,  0.        ,\n",
       "         0.        , 52.        ]])"
      ]
     },
     "execution_count": 2,
     "metadata": {},
     "output_type": "execute_result"
    }
   ],
   "source": [
    "x_df"
   ]
  },
  {
   "cell_type": "code",
   "execution_count": 3,
   "metadata": {},
   "outputs": [],
   "source": [
    "y_df = pd.read_csv(os.path.join(FINAL_DATA, 'labels.csv'),\n",
    "                   header=None)\n",
    "y_df = y_df.to_numpy()"
   ]
  },
  {
   "cell_type": "code",
   "execution_count": 4,
   "metadata": {},
   "outputs": [
    {
     "data": {
      "text/plain": [
       "array([[87],\n",
       "       [87],\n",
       "       [87],\n",
       "       ...,\n",
       "       [89],\n",
       "       [91],\n",
       "       [91]])"
      ]
     },
     "execution_count": 4,
     "metadata": {},
     "output_type": "execute_result"
    }
   ],
   "source": [
    "y_df"
   ]
  },
  {
   "cell_type": "code",
   "execution_count": 5,
   "metadata": {},
   "outputs": [],
   "source": [
    "# # Calculate SVD of X\n",
    "# u, sigma, vt = np.linalg.svd(x_df)\n",
    "\n",
    "# # Save results\n",
    "# PCA_PATH = os.path.join('..', 'data', 'pca_output')\n",
    "# np.savetxt(os.path.join(PCA_PATH, 'u.csv'), u, delimiter=',')\n",
    "# np.savetxt(os.path.join(PCA_PATH, 'sigma.csv'), sigma, delimiter=',')\n",
    "# np.savetxt(os.path.join(PCA_PATH, 'vt.csv'), vt, delimiter=',')\n",
    "\n",
    "# Load results\n",
    "u = pd.read_csv(os.path.join(PCA_PATH, 'u.csv'), header=None).to_numpy()\n",
    "sigma = pd.read_csv(os.path.join(PCA_PATH, 'sigma.csv'), header=None).to_numpy()\n",
    "vt = pd.read_csv(os.path.join(PCA_PATH, 'vt.csv'), header=None).to_numpy()"
   ]
  },
  {
   "cell_type": "code",
   "execution_count": 20,
   "metadata": {},
   "outputs": [],
   "source": [
    "PCA_PATH = os.path.join('..', 'data', 'pca_output')\n",
    "np.savetxt(os.path.join(PCA_PATH, 'u.csv'), u, delimiter=',')\n",
    "np.savetxt(os.path.join(PCA_PATH, 'sigma.csv'), sigma, delimiter=',')\n",
    "np.savetxt(os.path.join(PCA_PATH, 'vt.csv'), vt, delimiter=',')"
   ]
  },
  {
   "cell_type": "code",
   "execution_count": 23,
   "metadata": {},
   "outputs": [
    {
     "data": {
      "image/png": "[encoded data removed]",
      "text/plain": [
       "<Figure size 432x432 with 1 Axes>"
      ]
     },
     "metadata": {
      "needs_background": "light"
     },
     "output_type": "display_data"
    }
   ],
   "source": [
    "# Plot spectrum of x\n",
    "fig = plt.figure(figsize=(6,6))\n",
    "ax = plt.subplot(111) \n",
    "ax.scatter(range(len(sigma)), sigma)\n",
    "ax.set_title('Spectrum of X ($\\sigma_i$ vs $i$)')\n",
    "ax.set_xlabel('i')\n",
    "ax.set_ylabel('Value of $\\sigma_i$')\n",
    "plt.savefig(os.path.join('..', 'images', 'pca_spectrum.png'))\n",
    "plt.show()"
   ]
  },
  {
   "cell_type": "code",
   "execution_count": 26,
   "metadata": {},
   "outputs": [],
   "source": [
    "# Using pseudoinverse of X when p >> n\n",
    "def get_ls_w(x, y):\n",
    "    \n",
    "    # Calculate SVD of x\n",
    "    u, sigma, vt = np.linalg.svd(x)\n",
    "    \n",
    "    # Calculate pseudoinverse of sigma\n",
    "    k = x.shape[1]\n",
    "    sigma_psinv = np.zeros((vt.shape[0], u.shape[0])) \n",
    "    sigma_psinv[:k, :k] = np.diag(1 / sigma[:k])\n",
    "    \n",
    "    # Calculate least squares weights\n",
    "    w = np.linalg.multi_dot([\n",
    "        vt.T, sigma_psinv, u.T, y\n",
    "    ])\n",
    "    \n",
    "    return w    "
   ]
  },
  {
   "cell_type": "code",
   "execution_count": null,
   "metadata": {},
   "outputs": [
    {
     "name": "stdout",
     "output_type": "stream",
     "text": [
      "k = 1, mae = 57.3838168261588, mse = 4524.018520094385\n",
      "k = 2, mae = 18.10832747388883, mse = 516.8736203869112\n",
      "k = 3, mae = 17.373262095654994, mse = 484.86919173470716\n",
      "k = 5, mae = 17.306921071925043, mse = 481.2709417174531\n",
      "k = 10, mae = 16.300162638298644, mse = 426.21637528169754\n",
      "k = 15, mae = 16.085711914131437, mse = 412.17107106190053\n",
      "k = 20, mae = 15.81886320308258, mse = 399.10907032194933\n",
      "k = 25, mae = 15.1886970566137, mse = 366.78263852887477\n",
      "k = 50, mae = 13.900302280986704, mse = 307.3559488601417\n"
     ]
    }
   ],
   "source": [
    "# Loop over different values of k\n",
    "k_vals = [1, 2,3, 5, 10, 15, 20, 25, 50, 100]\n",
    "mae_k = []\n",
    "mse_k = []\n",
    "\n",
    "for i in k_vals:\n",
    "    \n",
    "    # Project x onto i dimensions\n",
    "    v = vt.T[:, 0:i]\n",
    "    x_proj = np.matmul(x_df, v)\n",
    "    \n",
    "    # Learn least squares weights from projected X\n",
    "    w_k = get_ls_w(x_proj, y_df)\n",
    "    \n",
    "    # Calculated predicted y and MSE\n",
    "    y_hat = np.matmul(x_proj, w_k)\n",
    "    mae = np.absolute(y_hat - y_df).mean()\n",
    "    mse = ((y_hat - y_df) ** 2).mean()\n",
    "    mae_k.append(mae)\n",
    "    mse_k.append(mse)\n",
    "\n",
    "    # Print results\n",
    "    print(f'k = {i}, mae = {mae}, mse = {mse}')"
   ]
  },
  {
   "cell_type": "code",
   "execution_count": null,
   "metadata": {},
   "outputs": [],
   "source": [
    "# Plot results\n",
    "fig = plt.figure(figsize=(6,6))\n",
    "ax = plt.subplot(111) \n",
    "ax.scatter(y_df, y_hat)\n",
    "ax.set_title('$\\hat{y}$ vs. True y (100 PCA reconstruction components)')\n",
    "ax.set_xlabel('True y')\n",
    "ax.set_ylabel('$\\hat{y}$')\n",
    "plt.savefig(os.path.join('..', 'images', 'pca_y_vs_yhat.png'))\n",
    "plt.show()"
   ]
  },
  {
   "cell_type": "code",
   "execution_count": 70,
   "metadata": {},
   "outputs": [
    {
     "data": {
      "image/png": "[encoded data removed]",
      "text/plain": [
       "<Figure size 720x720 with 1 Axes>"
      ]
     },
     "metadata": {
      "needs_background": "light"
     },
     "output_type": "display_data"
    }
   ],
   "source": [
    "# Plot results\n",
    "fig = plt.figure(figsize=(6,6))\n",
    "ax = plt.subplot(111) \n",
    "ax.plot(k_vals, mse_k)\n",
    "ax.set_title('MSE vs k PCA reconstruction components')\n",
    "ax.set_xlabel('Number of components')\n",
    "ax.set_ylabel('MSE')\n",
    "plt.savefig(os.path.join('..', 'images', 'pca_mse_vs_k.png'))\n",
    "plt.show()"
   ]
  },
  {
   "cell_type": "code",
   "execution_count": null,
   "metadata": {},
   "outputs": [],
   "source": []
  }
 ],
 "metadata": {
  "kernelspec": {
   "display_name": "Python 3",
   "language": "python",
   "name": "python3"
  },
  "language_info": {
   "codemirror_mode": {
    "name": "ipython",
    "version": 3
   },
   "file_extension": ".py",
   "mimetype": "text/x-python",
   "name": "python",
   "nbconvert_exporter": "python",
   "pygments_lexer": "ipython3",
   "version": "3.7.1"
  }
 },
 "nbformat": 4,
 "nbformat_minor": 2
}
