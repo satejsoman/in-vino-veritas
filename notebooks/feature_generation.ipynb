{
 "cells": [
  {
   "cell_type": "markdown",
   "metadata": {},
   "source": [
    "1. NLP feature extraction\n",
    "2. PCA\n",
    "3. regression framework that can sit on top of either PCA or AENNs\n",
    "4. RBM/AENN\n",
    "\n",
    "## 1. Feature Extraction\n",
    "\n",
    "Many of the columns in the data are text blocks or categorical - need to convert to numeric representations in order to do matrix operations on them.\n",
    "\n",
    "Processing steps for description text:\n",
    "1. convert to lowercase\n",
    "2. strip out nonalphanumeric characters\n",
    "3. tokenize\n",
    "4. strip out stop words\n",
    "5. apply one-hot encoding for remaining tokens\n",
    "\n",
    "(Optional): if time permits, use bag-of-words representation or tf-idf instead of one-hot encoding.\n",
    "\n",
    "`description` is the only text block field that will be processed this way. Simple one-hot encoding will be used for the remaining categorical features: `country`, `designation`, `province`, `region_1`, `region_2`, `taster_name`, `variety`, `winery`.\n"
   ]
  },
  {
   "cell_type": "code",
   "execution_count": 38,
   "metadata": {},
   "outputs": [
    {
     "data": {
      "text/plain": [
       "(10000, 14)"
      ]
     },
     "execution_count": 38,
     "metadata": {},
     "output_type": "execute_result"
    }
   ],
   "source": [
    "# Setup\n",
    "import os\n",
    "import numpy as np\n",
    "import pandas as pd\n",
    "from nltk.corpus import stopwords\n",
    "\n",
    "# Display settings\n",
    "pd.options.display.max_columns = 999\n",
    "pd.options.display.max_colwidth = -1\n",
    "\n",
    "# Import data, using first 10k rows\n",
    "CSV_PATH = os.path.join('..', 'data', 'raw', 'winemag-data-130k-v2.csv')\n",
    "df = pd.read_csv(CSV_PATH, nrows=10000)\n",
    "df.shape"
   ]
  },
  {
   "cell_type": "code",
   "execution_count": 39,
   "metadata": {},
   "outputs": [
    {
     "data": {
      "text/html": [
       "<div>\n",
       "<style scoped>\n",
       "    .dataframe tbody tr th:only-of-type {\n",
       "        vertical-align: middle;\n",
       "    }\n",
       "\n",
       "    .dataframe tbody tr th {\n",
       "        vertical-align: top;\n",
       "    }\n",
       "\n",
       "    .dataframe thead th {\n",
       "        text-align: right;\n",
       "    }\n",
       "</style>\n",
       "<table border=\"1\" class=\"dataframe\">\n",
       "  <thead>\n",
       "    <tr style=\"text-align: right;\">\n",
       "      <th></th>\n",
       "      <th>Unnamed: 0</th>\n",
       "      <th>country</th>\n",
       "      <th>description</th>\n",
       "      <th>designation</th>\n",
       "      <th>points</th>\n",
       "      <th>price</th>\n",
       "      <th>province</th>\n",
       "      <th>region_1</th>\n",
       "      <th>region_2</th>\n",
       "      <th>taster_name</th>\n",
       "      <th>taster_twitter_handle</th>\n",
       "      <th>title</th>\n",
       "      <th>variety</th>\n",
       "      <th>winery</th>\n",
       "    </tr>\n",
       "  </thead>\n",
       "  <tbody>\n",
       "    <tr>\n",
       "      <th>0</th>\n",
       "      <td>0</td>\n",
       "      <td>Italy</td>\n",
       "      <td>Aromas include tropical fruit, broom, brimstone and dried herb. The palate isn't overly expressive, offering unripened apple, citrus and dried sage alongside brisk acidity.</td>\n",
       "      <td>Vulkà Bianco</td>\n",
       "      <td>87</td>\n",
       "      <td>NaN</td>\n",
       "      <td>Sicily &amp; Sardinia</td>\n",
       "      <td>Etna</td>\n",
       "      <td>NaN</td>\n",
       "      <td>Kerin O’Keefe</td>\n",
       "      <td>@kerinokeefe</td>\n",
       "      <td>Nicosia 2013 Vulkà Bianco  (Etna)</td>\n",
       "      <td>White Blend</td>\n",
       "      <td>Nicosia</td>\n",
       "    </tr>\n",
       "    <tr>\n",
       "      <th>1</th>\n",
       "      <td>1</td>\n",
       "      <td>Portugal</td>\n",
       "      <td>This is ripe and fruity, a wine that is smooth while still structured. Firm tannins are filled out with juicy red berry fruits and freshened with acidity. It's  already drinkable, although it will certainly be better from 2016.</td>\n",
       "      <td>Avidagos</td>\n",
       "      <td>87</td>\n",
       "      <td>15.0</td>\n",
       "      <td>Douro</td>\n",
       "      <td>NaN</td>\n",
       "      <td>NaN</td>\n",
       "      <td>Roger Voss</td>\n",
       "      <td>@vossroger</td>\n",
       "      <td>Quinta dos Avidagos 2011 Avidagos Red (Douro)</td>\n",
       "      <td>Portuguese Red</td>\n",
       "      <td>Quinta dos Avidagos</td>\n",
       "    </tr>\n",
       "    <tr>\n",
       "      <th>2</th>\n",
       "      <td>2</td>\n",
       "      <td>US</td>\n",
       "      <td>Tart and snappy, the flavors of lime flesh and rind dominate. Some green pineapple pokes through, with crisp acidity underscoring the flavors. The wine was all stainless-steel fermented.</td>\n",
       "      <td>NaN</td>\n",
       "      <td>87</td>\n",
       "      <td>14.0</td>\n",
       "      <td>Oregon</td>\n",
       "      <td>Willamette Valley</td>\n",
       "      <td>Willamette Valley</td>\n",
       "      <td>Paul Gregutt</td>\n",
       "      <td>@paulgwine</td>\n",
       "      <td>Rainstorm 2013 Pinot Gris (Willamette Valley)</td>\n",
       "      <td>Pinot Gris</td>\n",
       "      <td>Rainstorm</td>\n",
       "    </tr>\n",
       "    <tr>\n",
       "      <th>3</th>\n",
       "      <td>3</td>\n",
       "      <td>US</td>\n",
       "      <td>Pineapple rind, lemon pith and orange blossom start off the aromas. The palate is a bit more opulent, with notes of honey-drizzled guava and mango giving way to a slightly astringent, semidry finish.</td>\n",
       "      <td>Reserve Late Harvest</td>\n",
       "      <td>87</td>\n",
       "      <td>13.0</td>\n",
       "      <td>Michigan</td>\n",
       "      <td>Lake Michigan Shore</td>\n",
       "      <td>NaN</td>\n",
       "      <td>Alexander Peartree</td>\n",
       "      <td>NaN</td>\n",
       "      <td>St. Julian 2013 Reserve Late Harvest Riesling (Lake Michigan Shore)</td>\n",
       "      <td>Riesling</td>\n",
       "      <td>St. Julian</td>\n",
       "    </tr>\n",
       "    <tr>\n",
       "      <th>4</th>\n",
       "      <td>4</td>\n",
       "      <td>US</td>\n",
       "      <td>Much like the regular bottling from 2012, this comes across as rather rough and tannic, with rustic, earthy, herbal characteristics. Nonetheless, if you think of it as a pleasantly unfussy country wine, it's a good companion to a hearty winter stew.</td>\n",
       "      <td>Vintner's Reserve Wild Child Block</td>\n",
       "      <td>87</td>\n",
       "      <td>65.0</td>\n",
       "      <td>Oregon</td>\n",
       "      <td>Willamette Valley</td>\n",
       "      <td>Willamette Valley</td>\n",
       "      <td>Paul Gregutt</td>\n",
       "      <td>@paulgwine</td>\n",
       "      <td>Sweet Cheeks 2012 Vintner's Reserve Wild Child Block Pinot Noir (Willamette Valley)</td>\n",
       "      <td>Pinot Noir</td>\n",
       "      <td>Sweet Cheeks</td>\n",
       "    </tr>\n",
       "  </tbody>\n",
       "</table>\n",
       "</div>"
      ],
      "text/plain": [
       "   Unnamed: 0   country  \\\n",
       "0  0           Italy      \n",
       "1  1           Portugal   \n",
       "2  2           US         \n",
       "3  3           US         \n",
       "4  4           US         \n",
       "\n",
       "                                                                                                                                                                                                                                                 description  \\\n",
       "0  Aromas include tropical fruit, broom, brimstone and dried herb. The palate isn't overly expressive, offering unripened apple, citrus and dried sage alongside brisk acidity.                                                                                \n",
       "1  This is ripe and fruity, a wine that is smooth while still structured. Firm tannins are filled out with juicy red berry fruits and freshened with acidity. It's  already drinkable, although it will certainly be better from 2016.                         \n",
       "2  Tart and snappy, the flavors of lime flesh and rind dominate. Some green pineapple pokes through, with crisp acidity underscoring the flavors. The wine was all stainless-steel fermented.                                                                  \n",
       "3  Pineapple rind, lemon pith and orange blossom start off the aromas. The palate is a bit more opulent, with notes of honey-drizzled guava and mango giving way to a slightly astringent, semidry finish.                                                     \n",
       "4  Much like the regular bottling from 2012, this comes across as rather rough and tannic, with rustic, earthy, herbal characteristics. Nonetheless, if you think of it as a pleasantly unfussy country wine, it's a good companion to a hearty winter stew.   \n",
       "\n",
       "                          designation  points  price           province  \\\n",
       "0  Vulkà Bianco                        87     NaN     Sicily & Sardinia   \n",
       "1  Avidagos                            87      15.0   Douro               \n",
       "2  NaN                                 87      14.0   Oregon              \n",
       "3  Reserve Late Harvest                87      13.0   Michigan            \n",
       "4  Vintner's Reserve Wild Child Block  87      65.0   Oregon              \n",
       "\n",
       "              region_1           region_2         taster_name  \\\n",
       "0  Etna                 NaN                Kerin O’Keefe        \n",
       "1  NaN                  NaN                Roger Voss           \n",
       "2  Willamette Valley    Willamette Valley  Paul Gregutt         \n",
       "3  Lake Michigan Shore  NaN                Alexander Peartree   \n",
       "4  Willamette Valley    Willamette Valley  Paul Gregutt         \n",
       "\n",
       "  taster_twitter_handle  \\\n",
       "0  @kerinokeefe           \n",
       "1  @vossroger             \n",
       "2  @paulgwine             \n",
       "3  NaN                    \n",
       "4  @paulgwine             \n",
       "\n",
       "                                                                                 title  \\\n",
       "0  Nicosia 2013 Vulkà Bianco  (Etna)                                                     \n",
       "1  Quinta dos Avidagos 2011 Avidagos Red (Douro)                                         \n",
       "2  Rainstorm 2013 Pinot Gris (Willamette Valley)                                         \n",
       "3  St. Julian 2013 Reserve Late Harvest Riesling (Lake Michigan Shore)                   \n",
       "4  Sweet Cheeks 2012 Vintner's Reserve Wild Child Block Pinot Noir (Willamette Valley)   \n",
       "\n",
       "          variety               winery  \n",
       "0  White Blend     Nicosia              \n",
       "1  Portuguese Red  Quinta dos Avidagos  \n",
       "2  Pinot Gris      Rainstorm            \n",
       "3  Riesling        St. Julian           \n",
       "4  Pinot Noir      Sweet Cheeks         "
      ]
     },
     "execution_count": 39,
     "metadata": {},
     "output_type": "execute_result"
    }
   ],
   "source": [
    "df.head()"
   ]
  },
  {
   "cell_type": "code",
   "execution_count": 40,
   "metadata": {},
   "outputs": [
    {
     "data": {
      "text/plain": [
       "13820"
      ]
     },
     "execution_count": 40,
     "metadata": {},
     "output_type": "execute_result"
    }
   ],
   "source": [
    "# Get list of common stopwords from NLTK package\n",
    "stop_words = set(stopwords.words('english'))\n",
    "\n",
    "# convert to lowercase, remove all nonalphanumeric characters, split into tokens, remove stopwords\n",
    "unique_words = set() \n",
    "df['description'] \\\n",
    "    .str.lower() \\\n",
    "    .str.replace('[^\\w\\s\\-]','') \\\n",
    "    .str.split() \\\n",
    "    .apply(unique_words.update)\n",
    "tokens = unique_words - stop_words\n",
    "\n",
    "# how many unique words are there in the description field?\n",
    "len(tokens)"
   ]
  },
  {
   "cell_type": "code",
   "execution_count": 41,
   "metadata": {},
   "outputs": [
    {
     "data": {
      "text/plain": [
       "0    [aromas, include, tropical, fruit, broom, brimstone, and, dried, herb, the, palate, isnt, overly, expressive, offering, unripened, apple, citrus, and, dried, sage, alongside, brisk, acidity]                                                                                            \n",
       "1    [this, is, ripe, and, fruity, a, wine, that, is, smooth, while, still, structured, firm, tannins, are, filled, out, with, juicy, red, berry, fruits, and, freshened, with, acidity, its, already, drinkable, although, it, will, certainly, be, better, from, 2016]                       \n",
       "2    [tart, and, snappy, the, flavors, of, lime, flesh, and, rind, dominate, some, green, pineapple, pokes, through, with, crisp, acidity, underscoring, the, flavors, the, wine, was, all, stainless-steel, fermented]                                                                        \n",
       "3    [pineapple, rind, lemon, pith, and, orange, blossom, start, off, the, aromas, the, palate, is, a, bit, more, opulent, with, notes, of, honey-drizzled, guava, and, mango, giving, way, to, a, slightly, astringent, semidry, finish]                                                      \n",
       "4    [much, like, the, regular, bottling, from, 2012, this, comes, across, as, rather, rough, and, tannic, with, rustic, earthy, herbal, characteristics, nonetheless, if, you, think, of, it, as, a, pleasantly, unfussy, country, wine, its, a, good, companion, to, a, hearty, winter, stew]\n",
       "Name: description_clean, dtype: object"
      ]
     },
     "execution_count": 41,
     "metadata": {},
     "output_type": "execute_result"
    }
   ],
   "source": [
    "df['description_clean'] = df['description'] \\\n",
    "    .str.lower() \\\n",
    "    .str.replace('[^\\w\\s\\-]','') \\\n",
    "    .str.split()\n",
    "\n",
    "df['description_clean'].head()"
   ]
  },
  {
   "cell_type": "code",
   "execution_count": 57,
   "metadata": {},
   "outputs": [],
   "source": [
    "# Extract matrix of one-hot encodings for description\n",
    "description_enc = df \\\n",
    "    .apply(lambda row: [1 if token in set(row['description_clean']) else 0 for token in tokens], \n",
    "           axis=1) \\\n",
    "    .apply(pd.Series)\n",
    "\n",
    "# Save to csv\n",
    "description_enc.to_csv(os.path.join('..', 'data', 'intermediate', 'description_encoded.csv'),\n",
    "                       header=False,\n",
    "                       index=False)"
   ]
  },
  {
   "cell_type": "code",
   "execution_count": 58,
   "metadata": {},
   "outputs": [
    {
     "name": "stdout",
     "output_type": "stream",
     "text": [
      "encoding country\n",
      "encoding designation\n",
      "encoding province\n",
      "encoding region_1\n",
      "encoding region_2\n",
      "encoding taster_name\n",
      "encoding variety\n",
      "encoding winery\n"
     ]
    }
   ],
   "source": [
    "# Test simple one-hot encoding\n",
    "cols_to_enc = ['country', 'designation', 'province', 'region_1', 'region_2', \n",
    "               'taster_name', 'variety', 'winery']\n",
    "\n",
    "# Define a function to process each column\n",
    "def get_one_hot_matrix(col_name):\n",
    "    '''\n",
    "    Takes a string column name as input, outputs a pd DataFrame containing one-hot encoding of the column.\n",
    "    '''\n",
    "    \n",
    "    print(f'encoding {col_name}')\n",
    "    # get tokens\n",
    "    col_tokens = df[col_name].unique()\n",
    "\n",
    "    # return a matrix of one-hot encodings for each token\n",
    "    col_enc = df.apply(lambda row: [1 if row[col_name] == token else 0 for token in col_tokens],\n",
    "                       axis=1) \\\n",
    "                .apply(pd.Series)\n",
    "    \n",
    "    # save intermediate file to csv, just in case\n",
    "    csv_path = os.path.join('..', 'data', 'intermediate', f'{col_name}_encoded.csv')\n",
    "    col_enc.to_csv(csv_path, header=False, index=False)\n",
    "    \n",
    "    return col_enc\n",
    "\n",
    "# compute and append encoded cols\n",
    "encoded_cols = [description_enc]\n",
    "for i in cols_to_enc:\n",
    "    encoded = get_one_hot_matrix(i)\n",
    "    encoded_cols.append(encoded)"
   ]
  },
  {
   "cell_type": "code",
   "execution_count": 59,
   "metadata": {},
   "outputs": [],
   "source": [
    "# fill in missing values for price feature\n",
    "df['price_clean'] = df['price'].fillna(df['price'].mean())\n",
    "encoded_cols.append(df['price_clean'])"
   ]
  },
  {
   "cell_type": "code",
   "execution_count": 60,
   "metadata": {},
   "outputs": [],
   "source": [
    "# compile and export final feature matrix\n",
    "FINAL_DATA_PATH = os.path.join('..', 'data', 'final')\n",
    "final_data = pd.concat(encoded_cols, axis=1)\n",
    "final_data.to_csv(os.path.join(FINAL_DATA_PATH, 'features.csv'), header=False, index=False)\n",
    "\n",
    "# export label vector\n",
    "df['points'].to_csv(os.path.join(FINAL_DATA_PATH, 'labels.csv'), header=False, index=False)"
   ]
  }
 ],
 "metadata": {
  "kernelspec": {
   "display_name": "Python 3",
   "language": "python",
   "name": "python3"
  },
  "language_info": {
   "codemirror_mode": {
    "name": "ipython",
    "version": 3
   },
   "file_extension": ".py",
   "mimetype": "text/x-python",
   "name": "python",
   "nbconvert_exporter": "python",
   "pygments_lexer": "ipython3",
   "version": "3.7.1"
  }
 },
 "nbformat": 4,
 "nbformat_minor": 2
}
